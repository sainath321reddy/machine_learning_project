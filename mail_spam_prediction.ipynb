{
  "nbformat": 4,
  "nbformat_minor": 0,
  "metadata": {
    "colab": {
      "name": "mail_spam_prediction.ipynb",
      "provenance": []
    },
    "kernelspec": {
      "name": "python3",
      "display_name": "Python 3"
    },
    "language_info": {
      "name": "python"
    }
  },
  "cells": [
    {
      "cell_type": "code",
      "execution_count": null,
      "metadata": {
        "id": "RGkT6nb_5QG-"
      },
      "outputs": [],
      "source": [
        "import numpy as np\n",
        "import pandas as pd\n",
        "import difflib\n",
        "from sklearn.feature_extraction.text import TfidfVectorizer\n",
        "from sklearn.model_selection import train_test_split\n",
        "from sklearn.linear_model import LogisticRegression\n",
        "from sklearn.metrics import accuracy_score"
      ]
    },
    {
      "cell_type": "markdown",
      "source": [
        "DATA COLLECTION AND PREPROCESSING"
      ],
      "metadata": {
        "id": "WrkqY3lD66aG"
      }
    },
    {
      "cell_type": "code",
      "source": [
        "#LOADING THE DATA FROM CSV FILE TO PANDAS dATAFRAME\n",
        "\n",
        "raw_mail_data=pd.read_csv('/content/mail_data.csv')\n",
        "\n",
        "#REPLACE THE NULL VALUES WITH THE NULL STRING\n",
        "print(raw_mail_data.head())\n",
        "mail_data=raw_mail_data.where((pd.notnull(raw_mail_data)),'')\n"
      ],
      "metadata": {
        "colab": {
          "base_uri": "https://localhost:8080/"
        },
        "id": "npO7N8dz6-8Q",
        "outputId": "f17f0966-b632-486d-d864-e7c93e2ca0ba"
      },
      "execution_count": null,
      "outputs": [
        {
          "output_type": "stream",
          "name": "stdout",
          "text": [
            "  Category                                            Message\n",
            "0      ham  Go until jurong point, crazy.. Available only ...\n",
            "1      ham                      Ok lar... Joking wif u oni...\n",
            "2     spam  Free entry in 2 a wkly comp to win FA Cup fina...\n",
            "3      ham  U dun say so early hor... U c already then say...\n",
            "4      ham  Nah I don't think he goes to usf, he lives aro...\n"
          ]
        }
      ]
    },
    {
      "cell_type": "markdown",
      "source": [
        "LABEL ENCOADING"
      ],
      "metadata": {
        "id": "TogBRJ977t9K"
      }
    },
    {
      "cell_type": "code",
      "source": [
        "#LABEL SPAM MAIL AS 0\n",
        "#LABEL HAM MAIL AS 1\n",
        "mail_data.loc[mail_data['Category']=='spam','Category']=0\n",
        "mail_data.loc[mail_data['Category']=='ham','Category']=1\n",
        "\n",
        "#SEPERATING THE DATA AS THE TEXT AND THE LABELS\n",
        "#TEXT-X axis\n",
        "#THE LABELS- Y axis\n",
        "X=mail_data['Message']\n",
        "Y=mail_data['Category']"
      ],
      "metadata": {
        "id": "tZP6KR7c7wrb"
      },
      "execution_count": null,
      "outputs": []
    },
    {
      "cell_type": "markdown",
      "source": [
        "TRAIN TEST SPLIT"
      ],
      "metadata": {
        "id": "pdNGNXvP9PY_"
      }
    },
    {
      "cell_type": "code",
      "source": [
        "X_train,X_test,Y_train,Y_test=train_test_split(X,Y,test_size=0.2,random_state=3)"
      ],
      "metadata": {
        "id": "ACDp-CgZ9SGA"
      },
      "execution_count": null,
      "outputs": []
    },
    {
      "cell_type": "markdown",
      "source": [
        "FEATURE EXTRACTION"
      ],
      "metadata": {
        "id": "Pgo2_O_L9lBz"
      }
    },
    {
      "cell_type": "code",
      "source": [
        "#TRANSFORM THE TEXT DATA TO FEATURE VECTORS BUT CAN BE USED AS INPUT TO LOGISTIC REGRESSION\n",
        "feature_extraction=TfidfVectorizer(min_df=1,stop_words='english',lowercase='True')\n",
        "\n",
        "X_train_features=feature_extraction.fit_transform(X_train)\n",
        "X_test_features=feature_extraction.transform(X_test)\n",
        "\n",
        "#CONVERT Y_train AND Y_twst VALUES AS INTEGERS\n",
        "Y_train=Y_train.astype('int')\n",
        "Y_test=Y_test.astype('int')"
      ],
      "metadata": {
        "id": "f2PeyJYy9oAp"
      },
      "execution_count": null,
      "outputs": []
    },
    {
      "cell_type": "markdown",
      "source": [
        "TRAINING THE MODEL (LOGISTIC MODEL)"
      ],
      "metadata": {
        "id": "qXVS7XMN_k-o"
      }
    },
    {
      "cell_type": "code",
      "source": [
        "model=LogisticRegression()\n",
        "\n"
      ],
      "metadata": {
        "id": "Xj9o4Gtp_qgq"
      },
      "execution_count": null,
      "outputs": []
    },
    {
      "cell_type": "code",
      "source": [
        "#TRAINING THE LOGISTIC REGRESSION MODEL PUT TRAINING DATA\n",
        "model.fit(X_train_features, Y_train)"
      ],
      "metadata": {
        "colab": {
          "base_uri": "https://localhost:8080/"
        },
        "id": "lHOPXhVzCCxz",
        "outputId": "6c6bef77-1e6e-4dff-932d-73d4adee8e9e"
      },
      "execution_count": null,
      "outputs": [
        {
          "output_type": "execute_result",
          "data": {
            "text/plain": [
              "LogisticRegression()"
            ]
          },
          "metadata": {},
          "execution_count": 41
        }
      ]
    },
    {
      "cell_type": "markdown",
      "source": [
        "EVALUATING THE TRAINING MODEL"
      ],
      "metadata": {
        "id": "D-WUCiH7AHM5"
      }
    },
    {
      "cell_type": "code",
      "source": [
        "#PREDICTION OF TRAINING DATA\n",
        "prediction_training_data=model.predict(X_train_features)\n",
        "accuracy_on_training_data=accuracy_score(Y_train,prediction_training_data)\n",
        "print('accuracy on training data',accuracy_on_training_data)\n",
        "\n",
        "#PREDICTION ON TESTING DATA\n",
        "\n",
        "prediction_test_data=model.predict(X_test_features)\n",
        "accuracy_on_test_data=accuracy_score(Y_test,prediction_test_data)\n",
        "print('accuracy on training data',accuracy_on_test_data)"
      ],
      "metadata": {
        "colab": {
          "base_uri": "https://localhost:8080/"
        },
        "id": "aD7xDkZsAKnv",
        "outputId": "52d6776b-30f2-49c6-b341-39e329a9b6f4"
      },
      "execution_count": null,
      "outputs": [
        {
          "output_type": "stream",
          "name": "stdout",
          "text": [
            "accuracy on training data 0.9670181736594121\n",
            "accuracy on training data 0.9659192825112107\n"
          ]
        }
      ]
    },
    {
      "cell_type": "markdown",
      "source": [
        "BUILDING A PREDICTIVE SYSTEM"
      ],
      "metadata": {
        "id": "aA6EfyVFFBgE"
      }
    },
    {
      "cell_type": "code",
      "source": [
        "input_mail=[\"SIX chances to win CASH! From 100 to 20,000 pounds txt> CSH11 and send to 87575. Cost 150p/day, 6days, 16+ TsandCs apply Reply HL 4 info\"]\n",
        "input_mail_features=feature_extraction.transform(input_mail)\n",
        "prediction=model.predict(input_mail_features)\n",
        "if prediction[0]==1:\n",
        "  print(\"Ham mail\")\n",
        "else:\n",
        "  print(\"spam mail\")"
      ],
      "metadata": {
        "colab": {
          "base_uri": "https://localhost:8080/"
        },
        "id": "bRIVQTYuE_mc",
        "outputId": "38ce4317-1d21-4186-b04c-53c15a91c38f"
      },
      "execution_count": null,
      "outputs": [
        {
          "output_type": "stream",
          "name": "stdout",
          "text": [
            "spam mail\n"
          ]
        }
      ]
    }
  ]
}