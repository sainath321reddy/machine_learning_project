{
  "nbformat": 4,
  "nbformat_minor": 0,
  "metadata": {
    "colab": {
      "name": "movie_reccomendation.py",
      "provenance": [],
      "collapsed_sections": []
    },
    "kernelspec": {
      "name": "python3",
      "display_name": "Python 3"
    },
    "language_info": {
      "name": "python"
    }
  },
  "cells": [
    {
      "cell_type": "markdown",
      "source": [
        "IMPORTING AND DEPENDENCIES"
      ],
      "metadata": {
        "id": "quzUVGtm17ts"
      }
    },
    {
      "cell_type": "code",
      "source": [
        "import numpy as np\n",
        "import pandas as pd\n",
        "import difflib\n",
        "from sklearn.feature_extraction.text import TfidfVectorizer\n",
        "from sklearn.metrics.pairwise import cosine_similarity"
      ],
      "metadata": {
        "id": "XYlzdT9_2JvR"
      },
      "execution_count": null,
      "outputs": []
    },
    {
      "cell_type": "markdown",
      "source": [
        "DATA COLLECTION AND PREPEOCESSING"
      ],
      "metadata": {
        "id": "E4R7B9bk3EgW"
      }
    },
    {
      "cell_type": "code",
      "source": [
        "#LOADING DATA FROM CSV FILE TO APANDAS DATA FRAME\n",
        "movies_data=pd.read_csv('/content/movies.csv')\n",
        "#SELECT REQUIRED FEATURES FOR RECCOMENDATION\n",
        "selected_features=['genres','keywords','tagline','cast','director']\n",
        "#REPLACE NULL VALUES WITH NULL STRING\n",
        "for features in selected_features:\n",
        "  movies_data[features]=movies_data[features].fillna('')\n",
        "#combine all the selected freatures\n",
        "combined_features=movies_data['genres']+' '+movies_data['keywords']+' '+movies_data['tagline']+' '+movies_data['cast']+' '+movies_data['director']\n",
        "#convert text_data to feature vector\n",
        "vectorizer=TfidfVectorizer()\n",
        "feature_vector=vectorizer.fit_transform(combined_features)"
      ],
      "metadata": {
        "id": "Vr2ATNZ02h-y"
      },
      "execution_count": null,
      "outputs": []
    },
    {
      "cell_type": "markdown",
      "source": [
        "COSINE SIMILARITY"
      ],
      "metadata": {
        "id": "jZq-D88N7MrB"
      }
    },
    {
      "cell_type": "code",
      "source": [
        "#getting similarity score using cosine similarity\n",
        "similarity=cosine_similarity(feature_vector)"
      ],
      "metadata": {
        "id": "eMli40144Pwx"
      },
      "execution_count": null,
      "outputs": []
    },
    {
      "cell_type": "markdown",
      "source": [
        "FINAL CODE"
      ],
      "metadata": {
        "id": "Dl8G27rU7qVQ"
      }
    },
    {
      "cell_type": "code",
      "source": [
        "#getting movie name from user\n",
        "movie_name=input('enter your favourite movie_name:\\n')\n",
        "#create a list with all the movie names in dataset\n",
        "list_of_all_titles=movies_data['title'].tolist()\n",
        "#find close match for movie name given by user\n",
        "find_close_match=difflib.get_close_matches(movie_name,list_of_all_titles)\n",
        "close_match=find_close_match[0]\n",
        "#finding index of movie with title\n",
        "index_of_the_movie=movies_data[movies_data.title==close_match]['index'].values[0]\n",
        "#getting a list of similar movies\n",
        "similarity_score=list(enumerate(similarity[index_of_the_movie]))\n",
        "#sorting movies based on near similarity score\n",
        "sorted_similar_movies=sorted(similarity_score,key=lambda x:x[1],reverse=True)\n",
        "#print name of similar movies based on index\n",
        "print('movies suggested for you:\\n')\n",
        "i=1\n",
        "for movies in sorted_similar_movies:\n",
        "  index=movies[0]\n",
        "  title_from_index=movies_data[movies_data.index==index]['title'].values[0]\n",
        "  if (i<30):\n",
        "    print(i,'.',title_from_index)\n",
        "    i+=1"
      ],
      "metadata": {
        "colab": {
          "base_uri": "https://localhost:8080/"
        },
        "id": "lUW5iEgd7sY8",
        "outputId": "a3634be9-95ee-45db-e710-27170000ce51"
      },
      "execution_count": null,
      "outputs": [
        {
          "output_type": "stream",
          "name": "stdout",
          "text": [
            "enter your favourite movie_name:\n",
            "spider man\n",
            "movies suggested for you:\n",
            "\n",
            "1 . Spider-Man\n",
            "2 . Spider-Man 3\n",
            "3 . Spider-Man 2\n",
            "4 . The Notebook\n",
            "5 . Seabiscuit\n",
            "6 . Clerks II\n",
            "7 . The Ice Storm\n",
            "8 . Oz: The Great and Powerful\n",
            "9 . Horrible Bosses\n",
            "10 . The Count of Monte Cristo\n",
            "11 . In Good Company\n",
            "12 . Finding Nemo\n",
            "13 . Clear and Present Danger\n",
            "14 . Brothers\n",
            "15 . The Good German\n",
            "16 . Drag Me to Hell\n",
            "17 . Bambi\n",
            "18 . The Queen\n",
            "19 . Charly\n",
            "20 . Escape from L.A.\n",
            "21 . Daybreakers\n",
            "22 . The Life Aquatic with Steve Zissou\n",
            "23 . Labor Day\n",
            "24 . Wimbledon\n",
            "25 . Cold Mountain\n",
            "26 . Hearts in Atlantis\n",
            "27 . Out of the Furnace\n",
            "28 . Bullets Over Broadway\n",
            "29 . The Purge: Election Year\n"
          ]
        }
      ]
    }
  ]
}